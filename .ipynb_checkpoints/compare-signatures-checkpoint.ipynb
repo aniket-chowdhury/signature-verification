{
 "cells": [
  {
   "cell_type": "code",
   "execution_count": 3,
   "metadata": {},
   "outputs": [],
   "source": [
    "import numpy as np\n",
    "\n",
    "# import imageio\n",
    "# Functions to load and pre-process the images:\n",
    "from scipy.misc import imread, imsave\n",
    "from preprocess.normalize import normalize_image, resize_image, crop_center, preprocess_signature\n",
    "\n",
    "\n",
    "# Functions to load the CNN model\n",
    "import signet\n",
    "from cnn_model import CNNModel\n",
    "# Functions for plotting:\n",
    "import matplotlib.pyplot as plt\n",
    "%matplotlib inline\n",
    "plt.rcParams['image.cmap'] = 'Greys'"
   ]
  },
  {
   "cell_type": "code",
   "execution_count": 4,
   "metadata": {},
   "outputs": [
    {
     "name": "stderr",
     "output_type": "stream",
     "text": [
      "C:\\Users\\Aniket\\AppData\\Local\\conda\\conda\\envs\\signature\\lib\\site-packages\\ipykernel_launcher.py:1: DeprecationWarning: `imread` is deprecated!\n",
      "`imread` is deprecated in SciPy 1.0.0, and will be removed in 1.2.0.\n",
      "Use ``imageio.imread`` instead.\n",
      "  \"\"\"Entry point for launching an IPython kernel.\n"
     ]
    }
   ],
   "source": [
    "original = imread('data/some_signature.png')"
   ]
  },
  {
   "cell_type": "code",
   "execution_count": 5,
   "metadata": {},
   "outputs": [],
   "source": [
    "normalized = 255 - normalize_image(original, size=(952, 1360))\n",
    "resized = resize_image(normalized, (170, 242))\n",
    "cropped = crop_center(resized, (150,220))\n"
   ]
  },
  {
   "cell_type": "code",
   "execution_count": 6,
   "metadata": {},
   "outputs": [
    {
     "name": "stderr",
     "output_type": "stream",
     "text": [
      "C:\\Users\\Aniket\\AppData\\Local\\conda\\conda\\envs\\signature\\lib\\site-packages\\ipykernel_launcher.py:1: DeprecationWarning: `imread` is deprecated!\n",
      "`imread` is deprecated in SciPy 1.0.0, and will be removed in 1.2.0.\n",
      "Use ``imageio.imread`` instead.\n",
      "  \"\"\"Entry point for launching an IPython kernel.\n",
      "C:\\Users\\Aniket\\AppData\\Local\\conda\\conda\\envs\\signature\\lib\\site-packages\\ipykernel_launcher.py:2: DeprecationWarning: `imread` is deprecated!\n",
      "`imread` is deprecated in SciPy 1.0.0, and will be removed in 1.2.0.\n",
      "Use ``imageio.imread`` instead.\n",
      "  \n"
     ]
    }
   ],
   "source": [
    "user1_sigs  = [imread('data/a%d.png' % i) for i in  [1,2]]\n",
    "user2_sigs  = [imread('data/b%d.png' % i) for i in  [1,2]]\n",
    "\n",
    "canvas_size = (952, 1360)\n",
    "\n",
    "processed_user1_sigs = np.array([preprocess_signature(sig, canvas_size) for sig in user1_sigs])\n",
    "processed_user2_sigs = np.array([preprocess_signature(sig, canvas_size) for sig in user2_sigs])"
   ]
  },
  {
   "cell_type": "markdown",
   "metadata": {},
   "source": [
    "### Using the CNN to obtain the feature representations"
   ]
  },
  {
   "cell_type": "code",
   "execution_count": 7,
   "metadata": {},
   "outputs": [],
   "source": [
    "# Path to the learned weights\n",
    "model_weight_path = 'models/signet.pkl'"
   ]
  },
  {
   "cell_type": "code",
   "execution_count": 8,
   "metadata": {},
   "outputs": [],
   "source": [
    "# Instantiate the model\n",
    "model = CNNModel(signet, model_weight_path)"
   ]
  },
  {
   "cell_type": "code",
   "execution_count": 9,
   "metadata": {},
   "outputs": [],
   "source": [
    "# Obtain the features. Note that you can process multiple images at the same time\n",
    "\n",
    "user1_features = model.get_feature_vector_multiple(processed_user1_sigs, layer='fc2')\n",
    "user2_features = model.get_feature_vector_multiple(processed_user2_sigs, layer='fc2')"
   ]
  },
  {
   "cell_type": "code",
   "execution_count": 10,
   "metadata": {},
   "outputs": [
    {
     "data": {
      "text/plain": [
       "(2L, 2048L)"
      ]
     },
     "execution_count": 10,
     "metadata": {},
     "output_type": "execute_result"
    }
   ],
   "source": [
    "user1_features.shape"
   ]
  },
  {
   "cell_type": "code",
   "execution_count": 11,
   "metadata": {},
   "outputs": [
    {
     "name": "stdout",
     "output_type": "stream",
     "text": [
      "Euclidean distance between signatures from the same user\n",
      "19.446672641077384\n",
      "20.110455665904194\n"
     ]
    }
   ],
   "source": [
    "print('Euclidean distance between signatures from the same user')\n",
    "print(np.linalg.norm(user1_features[0] - user1_features[1]))\n",
    "print(np.linalg.norm(user2_features[0] - user2_features[1]))"
   ]
  },
  {
   "cell_type": "code",
   "execution_count": 12,
   "metadata": {},
   "outputs": [
    {
     "name": "stdout",
     "output_type": "stream",
     "text": [
      "Euclidean distance between signatures from different users\n",
      "[34.48636050683751, 38.47801371381476, 31.77029894800385, 34.43621252505298]\n"
     ]
    }
   ],
   "source": [
    "print('Euclidean distance between signatures from different users')\n",
    "\n",
    "dists = [np.linalg.norm(u1 - u2) for u1 in user1_features for u2 in user2_features]\n",
    "print(dists)"
   ]
  },
  {
   "cell_type": "code",
   "execution_count": null,
   "metadata": {},
   "outputs": [],
   "source": []
  }
 ],
 "metadata": {
  "kernelspec": {
   "display_name": "Python 2",
   "language": "python",
   "name": "python2"
  },
  "language_info": {
   "codemirror_mode": {
    "name": "ipython",
    "version": 2
   },
   "file_extension": ".py",
   "mimetype": "text/x-python",
   "name": "python",
   "nbconvert_exporter": "python",
   "pygments_lexer": "ipython2",
   "version": "2.7.15"
  }
 },
 "nbformat": 4,
 "nbformat_minor": 2
}
